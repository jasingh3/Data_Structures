{
 "cells": [
  {
   "cell_type": "raw",
   "metadata": {},
   "source": [
    "Question 1: String has all distinct characters "
   ]
  },
  {
   "cell_type": "code",
   "execution_count": 1,
   "metadata": {},
   "outputs": [
    {
     "name": "stdout",
     "output_type": "stream",
     "text": [
      "not tsring\n"
     ]
    }
   ],
   "source": [
    "str=\"jaasir\"\n",
    "dict={}\n",
    "flag=0\n",
    "for c in str:\n",
    "    cnt=1\n",
    "    if c in dict:\n",
    "        dict[c]=cnt+1\n",
    "        flag=1\n",
    "    else:\n",
    "        dict[c]=cnt   \n",
    "if flag==1:\n",
    "    print(\"not tsring\")\n",
    "              \n",
    "\n",
    "\n"
   ]
  },
  {
   "cell_type": "code",
   "execution_count": 75,
   "metadata": {},
   "outputs": [
    {
     "name": "stdout",
     "output_type": "stream",
     "text": [
      "a\n",
      "b\n",
      "c\n",
      "a 1\n",
      "b 2\n",
      "c 1\n"
     ]
    }
   ],
   "source": [
    "#To loop all the keys from a dictionary\n",
    "for k in dict:\n",
    "    print(k)\n",
    "    \n",
    "#To loop every key and value from a dictionary     \n",
    "for k, v in dict.items():\n",
    "    print(k,v)\n",
    "\n",
    "#chwck if string has all unique vales or not"
   ]
  },
  {
   "cell_type": "code",
   "execution_count": 22,
   "metadata": {},
   "outputs": [
    {
     "name": "stdout",
     "output_type": "stream",
     "text": [
      "15\n"
     ]
    }
   ],
   "source": [
    "score = {\"a\": 1, \"c\": 3, \"b\": 3, \"e\": 1, \"d\": 2, \"g\": 2, \n",
    " \"f\": 4, \"i\": 1, \"h\": 4, \"k\": 5, \"j\": 8, \"m\": 3, \n",
    " \"l\": 1, \"o\": 1, \"n\": 1, \"q\": 10, \"p\": 3, \"s\": 1, \n",
    " \"r\": 1, \"u\": 1, \"t\": 1, \"w\": 4, \"v\": 4, \"y\": 4, \n",
    " \"x\": 8, \"z\": 10}\n",
    "\n",
    "word=\"jasbir\"\n",
    "\n",
    "def compare(word):\n",
    "    res = 0\n",
    "    for letter in word:\n",
    "       if letter in score:\n",
    "          res += score[letter]\n",
    "    return res\n",
    "\n",
    "print(compare(word))"
   ]
  },
  {
   "cell_type": "markdown",
   "metadata": {},
   "source": [
    "Quetion 2: One string is permutation of another"
   ]
  },
  {
   "cell_type": "code",
   "execution_count": 84,
   "metadata": {},
   "outputs": [
    {
     "name": "stdout",
     "output_type": "stream",
     "text": [
      "Not a permuattion\n"
     ]
    }
   ],
   "source": [
    "import collections\n",
    "str=\"abcd\"\n",
    "str1=\"abc\"\n",
    "flag=0\n",
    "dict={}\n",
    "dict1={}\n",
    "flag=0\n",
    "for c in str:\n",
    "    if c in dict:\n",
    "        dict[c] += 1\n",
    "    else:\n",
    "        dict[c] = 1   \n",
    "for c in str1:\n",
    "    if c in dict1:\n",
    "        dict1[c] +=1\n",
    "    else:\n",
    "        dict1[c] = 1\n",
    "\n",
    "if (len(dict)==len(dict1)):\n",
    "    for k in dict.keys():\n",
    "        if k in dict1:\n",
    "            if dict[k]==dict1[k]:\n",
    "                flag=1\n",
    "            else:\n",
    "                flag=0\n",
    "                break\n",
    "        else: \n",
    "            flag=0\n",
    "            break\n",
    "            \n",
    "if(flag==1):\n",
    "    print(\"Permutaton\")\n",
    "else:\n",
    "    print(\"Not a permuattion\") \n"
   ]
  },
  {
   "cell_type": "markdown",
   "metadata": {},
   "source": [
    "Print all permutations for a string"
   ]
  },
  {
   "cell_type": "code",
   "execution_count": 23,
   "metadata": {},
   "outputs": [
    {
     "name": "stdout",
     "output_type": "stream",
     "text": [
      "['ABCD', 'BACD', 'BCAD', 'BCDA', 'ACBD', 'CABD', 'CBAD', 'CBDA', 'ACDB', 'CADB', 'CDAB', 'CDBA', 'ABDC', 'BADC', 'BDAC', 'BDCA', 'ADBC', 'DABC', 'DBAC', 'DBCA', 'ADCB', 'DACB', 'DCAB', 'DCBA']\n",
      "A\n"
     ]
    }
   ],
   "source": [
    "def permute_string(str):\n",
    "    if len(str) == 0:\n",
    "        return ['']\n",
    "    prev_list = permute_string(str[1:len(str)])\n",
    "    next_list = []\n",
    "    for i in range(0,len(prev_list)):\n",
    "        for j in range(0,len(str)):\n",
    "          # print(\"Inner loop Iteration j {} for i {}\".format(j, i))\n",
    "           # print(\"First Part \"+prev_list[i][0:j])\n",
    "           # print(\"second Part \"+str[0])\n",
    "          # print(\"Third part \"+prev_list[i][j:len(str)-1])\n",
    "            new_str = prev_list[i][0:j]+str[0]+prev_list[i][j:len(str)-1]\n",
    "           # print(\"New string \"+ new_str)\n",
    "            if new_str not in next_list:\n",
    "                next_list.append(new_str)\n",
    "    return next_list\n",
    "\n",
    "print(permute_string('ABCD'));\n",
    "\n",
    "#slicing string value\n",
    "print(str[0]) "
   ]
  },
  {
   "cell_type": "markdown",
   "metadata": {},
   "source": [
    "Question 3 : Replace space by some character"
   ]
  },
  {
   "cell_type": "code",
   "execution_count": 21,
   "metadata": {},
   "outputs": [
    {
     "name": "stdout",
     "output_type": "stream",
     "text": [
      "from function abc%20hgf%20thre\n",
      "From inbuilt functon Abc%20def%20ghi\n"
     ]
    }
   ],
   "source": [
    "def replace(s):\n",
    "    str = \"\"\n",
    "    for x in s:\n",
    "        if x == \" \":\n",
    "            str += \"%20\"\n",
    "        else:\n",
    "            str += x\n",
    "    return str\n",
    "print(\"from function\",replace(\"abc hgf thre\"))\n",
    "\n",
    "# Python has inbuilt replace function \n",
    "\n",
    "print(\"From inbuilt functon\",str.replace(' ','%20'))"
   ]
  },
  {
   "cell_type": "markdown",
   "metadata": {},
   "source": [
    "Question 4: Pallindrome Permutation example : \n",
    "input : tact coa\n",
    "output : tact coa , catt aoc etc.."
   ]
  },
  {
   "cell_type": "markdown",
   "metadata": {},
   "source": [
    "A palindrome will have duplicate characters on opposite sides except potentially the middle\n",
    "get the count of characters\n",
    "    loop through the char count and return False if multiple characters have an odd count\n",
    "    could also keep track of odd counts while counting, but would have to check for each char\n",
    "    can also use a bit vector and map each char to pos 0-25\n",
    "        toggle on and off for each char\n",
    "        at the end, if permutation, will have only one True\n",
    "        if you get the value & value – 1, will be zero if there was only one True\n"
   ]
  },
  {
   "cell_type": "code",
   "execution_count": 45,
   "metadata": {},
   "outputs": [
    {
     "name": "stdout",
     "output_type": "stream",
     "text": [
      "True\n",
      "edcbaedcba\n"
     ]
    }
   ],
   "source": [
    "# 1.4. Palindrom Permutation: Given a string, write a function to check \n",
    "# if it is a permutation of a palindrome. A palindrome is a word or\n",
    "# phrase that is the same forwards and backwards. A permutation is a \n",
    "# rearrangement of letters. The palindrome does not need to be limited\n",
    "# to just dictionary words.\n",
    " \n",
    "# Input: Tact Coa\n",
    "# Output: True\n",
    " \n",
    "# Hash Table Solution\n",
    "# Time complexity: O(n) count characters and then loop through smaller\n",
    "# subset\n",
    "# Space complexity: O(c) where c is each char / Also can be thought\n",
    "# of as O(1) because set of characters is limited\n",
    " \n",
    "# Bit Vector Solution\n",
    "# Time complexity: O(n) need to look through each character\n",
    "# Space complexity: O(1) information all stored in one integer\n",
    " \n",
    "import unittest\n",
    " \n",
    "def palindrome_permutation(s):\n",
    "    char_count = get_char_count(s)\n",
    "    odd_count = 0\n",
    "     \n",
    "    for char in char_count:\n",
    "        if odd_count > 1:\n",
    "            return False\n",
    "  \n",
    "        if char_count[char] % 2 == 1:\n",
    "            odd_count += 1\n",
    "  \n",
    "    return True\n",
    "  \n",
    "def get_char_count(s):\n",
    "    char_count = {}\n",
    "    for char in s:\n",
    "        if char not in char_count:\n",
    "             char_count[char] = 1\n",
    "        else:\n",
    "            char_count[char] += 1\n",
    "      \n",
    "    return char_count\n",
    "  \n",
    "def palindrome_permutation2(s):\n",
    "    bv = [0]*26\n",
    "    for char in s:\n",
    "       bv[array_index(char)] = 1^bv[array_index(char)]\n",
    " \n",
    "    bit_str = [str(b) for b in bv]\n",
    "    if int(''.join(bit_str),2) & int(''.join(bit_str),2) - 1:\n",
    "        return False\n",
    "    else:\n",
    "        return True\n",
    "  \n",
    "def array_index(s):\n",
    "    return ord(s.lower()) - 97\n",
    "\n",
    "str1='abcdeabcde'\n",
    "print(palindrome_permutation(str1))\n",
    "print(str1[::-1])"
   ]
  },
  {
   "cell_type": "markdown",
   "metadata": {},
   "source": [
    "Question 4: Alternate and better solution :\n",
    "Explaination at : https://www.youtube.com/watch?v=8mEHnwx3EYY"
   ]
  },
  {
   "cell_type": "code",
   "execution_count": 54,
   "metadata": {},
   "outputs": [
    {
     "name": "stdout",
     "output_type": "stream",
     "text": [
      "False\n"
     ]
    }
   ],
   "source": [
    "def isPermutationOfPalindrom (str):\n",
    "    d=dict.fromkeys(string.ascii_lowercase, False)\n",
    "    count=0\n",
    "    for char in str:\n",
    "        if(ord(char)>96 and ord(char)<123):\n",
    "            d[char]=not d[char]\n",
    "    for key in d:\n",
    "        if d[key] is True:\n",
    "            count+=1\n",
    "            if count>1:\n",
    "                return False\n",
    "    return True\n",
    "print (isPermutationOfPalindrom(\"abc e abc f\"))"
   ]
  },
  {
   "cell_type": "markdown",
   "metadata": {},
   "source": [
    "Question 5"
   ]
  },
  {
   "cell_type": "code",
   "execution_count": 1,
   "metadata": {},
   "outputs": [
    {
     "name": "stdout",
     "output_type": "stream",
     "text": [
      "False\n"
     ]
    }
   ],
   "source": [
    "def oneAway(s1,s2):\n",
    "    dict_temp = {}\n",
    "    count = 0\n",
    "    for i in s1:\n",
    "        if i in dict_temp:\n",
    "            dict_temp[i] += 1\n",
    "        else:\n",
    "            dict_temp[i] = 1\n",
    "    for i in s2:\n",
    "        if i in dict_temp:\n",
    "            dict_temp[i] -= 1\n",
    "        else:\n",
    "            count += 1 \n",
    "        if dict_temp.get(i) == 0:\n",
    "            del dict_temp[i]\n",
    "    if count > 1:\n",
    "        return False\n",
    "    if len(dict_temp) > 1:\n",
    "        return False\n",
    "    if len(dict_temp) == 0 and abs(len(s1)-len(s2)) > 1:\n",
    "        return False\n",
    "        print(len(dict_temp))\n",
    "    return True\n",
    "print (oneAway('pale','bakle'))"
   ]
  },
  {
   "cell_type": "markdown",
   "metadata": {},
   "source": [
    "Question 6 : String compression"
   ]
  },
  {
   "cell_type": "code",
   "execution_count": 34,
   "metadata": {},
   "outputs": [
    {
     "data": {
      "text/plain": [
       "'a5b8c7'"
      ]
     },
     "execution_count": 34,
     "metadata": {},
     "output_type": "execute_result"
    }
   ],
   "source": [
    "def str_compression(str1):\n",
    "    d1={}\n",
    "    str3=\"None\"\n",
    "    for s in str1:\n",
    "        if s in d1:\n",
    "            d1[s]=d1[s]+1\n",
    "        else:\n",
    "            d1[s]=1\n",
    "    #print(d1)\n",
    "    for k in d1:\n",
    "        if str3==\"None\":\n",
    "            str3=k+str(d1[k])\n",
    "        else:\n",
    "            str3=str3+k+str(d1[k])\n",
    "    #print(str3)\n",
    "    if len(str3)<len(str1):\n",
    "        return str3\n",
    "    else:\n",
    "        return str1\n",
    "         \n",
    "str_compression(\"aaaaabbbbbbbbccccccc\")    "
   ]
  },
  {
   "cell_type": "code",
   "execution_count": 46,
   "metadata": {},
   "outputs": [
    {
     "name": "stdout",
     "output_type": "stream",
     "text": [
      "1\n",
      "2\n",
      "3\n",
      "5\n",
      "6\n",
      "9\n",
      "[[3, 6, 9], [2, 5, 8], [1, 4, 7]]\n"
     ]
    }
   ],
   "source": [
    "# Function for do transpose of matrix \n",
    "R=3\n",
    "C=3\n",
    "def transpose(arr): \n",
    "    for i in range(R): \n",
    "        for j in range(i, C): \n",
    "            t = arr[i][j] \n",
    "            print(t)\n",
    "            arr[i][j] = arr[j][i] \n",
    "            arr[j][i] = t\n",
    "    return arr\n",
    "            \n",
    "input=[[1,2,3],[4,5,6],[7,8,9]]\n",
    "\n",
    "\n",
    "print(transpose(input))"
   ]
  },
  {
   "cell_type": "markdown",
   "metadata": {},
   "source": [
    "For better time complexity check resources at geeks4geeks : https://www.geeksforgeeks.org/inplace-rotate-square-matrix-by-90-degrees/"
   ]
  },
  {
   "cell_type": "code",
   "execution_count": 35,
   "metadata": {},
   "outputs": [
    {
     "name": "stdout",
     "output_type": "stream",
     "text": [
      "[[3, 6, 9], [2, 5, 8], [1, 4, 7]]\n"
     ]
    }
   ],
   "source": [
    "def matrix_rotation(ls):\n",
    "    ls1=[[0 for x in range(0,3)] for x in range(0,3)]\n",
    "    ls2=[[0 for x in range(0,3)] for x in range(0,3)]\n",
    "    for i in range(0,len(ls)):\n",
    "        cnt=2;\n",
    "        for j in range(0,len(ls)):\n",
    "                ls1[i][j]=ls[i][cnt]\n",
    "                cnt=cnt-1\n",
    "    for i in range(0,len(ls1)):\n",
    "        for j in range(0,len(ls1)):\n",
    "                ls2[j][i]=ls[i][j]\n",
    "    #return a reverse of lsit ls2            \n",
    "    return(ls2[::-1])\n",
    "   \n",
    "\n",
    "            \n",
    "\n",
    "    \n",
    "input=[[1,2,3],[4,5,6],[7,8,9]]\n",
    "output=[[3,6,9],[2,5,8],[1,4,7]]\n",
    "\n",
    "\n",
    "print(matrix_rotation(input))"
   ]
  },
  {
   "cell_type": "markdown",
   "metadata": {},
   "source": [
    "Question 7 : Matrix Rotation: In same space "
   ]
  },
  {
   "cell_type": "code",
   "execution_count": 38,
   "metadata": {},
   "outputs": [
    {
     "name": "stdout",
     "output_type": "stream",
     "text": [
      "4 8 12 16 \n",
      "3 7 11 15 \n",
      "2 6 10 14 \n",
      "1 5 9 13 \n"
     ]
    }
   ],
   "source": [
    "# Python 3 program for left rotation of matrix by 90 \n",
    "# degree without using extra space \n",
    "\n",
    "R = 4\n",
    "C = 4\n",
    "\n",
    "# After transpose we swap elements of column \n",
    "# one by one for finding left rotation of matrix \n",
    "# by 90 degree \n",
    "def reverseColumns(arr): \n",
    "    for i in range(C): \n",
    "        j = 0\n",
    "        k = C-1\n",
    "        while j < k: \n",
    "            t = arr[j][i] \n",
    "            arr[j][i] = arr[k][i] \n",
    "            arr[k][i] = t \n",
    "            j += 1\n",
    "            k -= 1\n",
    "# Function for do transpose of matrix \n",
    "def transpose(arr): \n",
    "    for i in range(R): \n",
    "        for j in range(i, C): \n",
    "            t = arr[i][j] \n",
    "            arr[i][j] = arr[j][i] \n",
    "            arr[j][i] = t \n",
    "\n",
    "# Function for print matrix \n",
    "def printMatrix(arr): \n",
    "    for i in range(R): \n",
    "        for j in range(C): \n",
    "            print(str(arr[i][j]), end =\" \") \n",
    "        print() \n",
    "\n",
    "# Function to anticlockwise rotate matrix \n",
    "# by 90 degree \n",
    "def rotate90(arr): \n",
    "    transpose(arr) \n",
    "    reverseColumns(arr) \n",
    "\n",
    "# Driven code \n",
    "arr = [[1, 2, 3, 4], \n",
    "       [5, 6, 7, 8], \n",
    "       [9, 10, 11, 12], \n",
    "       [13, 14, 15, 16] ]; \n",
    "rotate90(arr) \n",
    "printMatrix(arr) \n"
   ]
  },
  {
   "cell_type": "code",
   "execution_count": 55,
   "metadata": {},
   "outputs": [
    {
     "name": "stdout",
     "output_type": "stream",
     "text": [
      "1\n",
      "2\n",
      "[7, 4, 1]\n",
      "[8, 5, 2]\n",
      "[9, 6, 3]\n"
     ]
    }
   ],
   "source": [
    "# Function to rotate the matrix \n",
    "# 90 degree clockwise \n",
    "def rotate90Clockwise(A): \n",
    "    N = len(A[0]) \n",
    "    for i in range(N // 2): \n",
    "        for j in range(i, N - i - 1): \n",
    "            temp = A[i][j] \n",
    "            \n",
    "            A[i][j] = A[N - 1 - j][i] \n",
    "            A[N - 1 - j][i] = A[N - 1 - i][N - 1 - j] \n",
    "            A[N - 1 - i][N - 1 - j] = A[j][N - 1 - i] \n",
    "            A[j][N - 1 - i] = temp \n",
    "            print(temp)\n",
    "  \n",
    "# Function to print the matrix \n",
    "def printMatrix(A): \n",
    "    N = len(A[0]) \n",
    "    for i in range(N): \n",
    "        print(A[i]) \n",
    "  \n",
    "# Driver code \n",
    "A = [[1, 2, 3], \n",
    "     [4,5,6],  \n",
    "     [7,8,9]] \n",
    "rotate90Clockwise(A) \n",
    "printMatrix(A) "
   ]
  },
  {
   "cell_type": "markdown",
   "metadata": {},
   "source": [
    "Question 8 : If a element is zero in M*N Matrix , set entire row and column to 0"
   ]
  },
  {
   "cell_type": "code",
   "execution_count": 84,
   "metadata": {},
   "outputs": [
    {
     "name": "stdout",
     "output_type": "stream",
     "text": [
      "[[1, 2, 0, 1], [4, 5, 0, 1], [0, 0, 0, 0]]\n"
     ]
    }
   ],
   "source": [
    "# My solution using dictionary for storing value of indexes as key vale pair \n",
    "#Then iterating over the list with 2 for loops each for value and key\n",
    "# Time complexity is O(n^2)\n",
    "def setZero(ls):\n",
    "    N=len(ls)\n",
    "    M=len(ls[0])\n",
    "    dict={}\n",
    "    for i in range(N):\n",
    "        for j in range(M):\n",
    "            if(ls[i][j]==0):\n",
    "                dict[i]=j\n",
    "    if (len(dict))!=0:\n",
    "        for k in dict.keys():\n",
    "            for i in range(M):\n",
    "                ls[k][i]=0\n",
    "            for j in range (N):\n",
    "                ls[j][dict[k]]=0\n",
    "        return(ls)\n",
    "    return(ls)\n",
    "            \n",
    "            \n",
    "            \n",
    "\n",
    "print(setZero(input))\n",
    "\n",
    "    \n",
    "input=[[1,2,3,1],\n",
    "       [4,5,6,1],\n",
    "      [12,34,0,6]]\n",
    "output=[[0,0,0],[0,5,8],[0,4,7]]\n"
   ]
  },
  {
   "cell_type": "markdown",
   "metadata": {},
   "source": [
    "Question 9: "
   ]
  },
  {
   "cell_type": "code",
   "execution_count": 46,
   "metadata": {},
   "outputs": [
    {
     "name": "stdout",
     "output_type": "stream",
     "text": [
      "True\n"
     ]
    }
   ],
   "source": [
    "str1 =\"qwertyuio12222\"\n",
    "str2=\"1222\"\n",
    "\n",
    "def is_substring(s1, s2):\n",
    "    return s1 in s2\n",
    "\n",
    "def string_rotation(s1, s2):\n",
    "    return is_substring(s2, s1 + s1)\n",
    "\n",
    "print(string_rotation(str1,str2))"
   ]
  }
 ],
 "metadata": {
  "kernelspec": {
   "display_name": "Python 3",
   "language": "python",
   "name": "python3"
  },
  "language_info": {
   "codemirror_mode": {
    "name": "ipython",
    "version": 3
   },
   "file_extension": ".py",
   "mimetype": "text/x-python",
   "name": "python",
   "nbconvert_exporter": "python",
   "pygments_lexer": "ipython3",
   "version": "3.6.5"
  }
 },
 "nbformat": 4,
 "nbformat_minor": 2
}
